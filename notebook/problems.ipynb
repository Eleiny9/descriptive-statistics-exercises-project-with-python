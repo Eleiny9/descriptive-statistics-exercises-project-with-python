{
    "cells": [
        {
            "cell_type": "markdown",
            "id": "ac622319",
            "metadata": {},
            "source": [
                "# Descriptive statistics problems"
            ]
        },
        {
            "cell_type": "markdown",
            "id": "5e0ab0d5",
            "metadata": {},
            "source": [
                "### Exercise 1\n",
                "\n",
                "We will use NumPy to obtain information to describe statistically.\n",
                "\n",
                "- Generate an array of 100 elements following a normal distribution.\n",
                "- Generate an array of 100 elements following a chi-square distribution with 3 degrees of freedom.\n",
                "- Calculate the main metrics and statistical measures that best describe the two vectors."
            ]
        },
        {
            "cell_type": "code",
            "execution_count": 17,
            "id": "34720ab6",
            "metadata": {},
            "outputs": [
                {
                    "name": "stdout",
                    "output_type": "stream",
                    "text": [
                        "--------------------------------------------\n",
                        "Media del array normal -0.02 \n",
                        "Media del array chisquare 3.06 \n",
                        "--------------------------------------------\n",
                        "Madiana del array normal -0.00\n",
                        "Mediana del array chisquare 2.55\n",
                        "--------------------------------------------\n",
                        "Moda del array normal 0.06\n",
                        "moda del array chisquare 2.76\n",
                        "--------------------------------------------\n",
                        "Rango del array normal 4.18\n",
                        "Rango del array chisquare 11.94\n",
                        "--------------------------------------------\n",
                        "Varianza del array normal 0.85 \n",
                        "Varianza del array chisquare 5.56\n",
                        "--------------------------------------------\n",
                        "Desviación estándar del array normal 0.92 \n",
                        "Desviación estándar del array chisquare 2.36 \n",
                        "--------------------------------------------\n",
                        "Asimetría del array normal -0.03 \n",
                        "Asimetría del array chisquare 1.29 \n",
                        "--------------------------------------------\n",
                        "Curtosis del array normal -0.55 \n",
                        "Curtosis del array chisquare 1.81 \n"
                    ]
                }
            ],
            "source": [
                "# TODO\n",
                "\n",
                "import numpy as np\n",
                "import random\n",
                "import statistics as stats\n",
                "from scipy.stats import skew\n",
                "from scipy.stats import kurtosis\n",
                "\n",
                "array_normal = np.random.normal(size = 100)\n",
                "\n",
                "array_chi = np.random.chisquare (3, 100)\n",
                "\n",
                "#Medidas de tendencia central\n",
                "    #Media \n",
                "\n",
                "media_n = stats.mean(array_normal)\n",
                "media_c = stats.mean(array_chi)\n",
                "\n",
                "print(\"--------------------------------------------\")\n",
                "print(\"Media del array normal {:.2f} \".format(media_n))\n",
                "print(\"Media del array chisquare {:.2f} \".format(media_c))\n",
                "\n",
                "    #Mediana \n",
                "\n",
                "mediana_n = stats.median(array_normal)\n",
                "mediana_c = stats.median(array_chi)\n",
                "\n",
                "print(\"--------------------------------------------\")\n",
                "print(\"Madiana del array normal {:.2f}\".format(mediana_n))\n",
                "print(\"Mediana del array chisquare {:.2f}\".format(mediana_c))\n",
                "\n",
                "    #Moda\n",
                "\n",
                "moda_n = stats.mode(array_normal)\n",
                "moda_c = stats.mode(array_chi)\n",
                "\n",
                "print(\"--------------------------------------------\")\n",
                "print(\"Moda del array normal {:.2f}\".format(moda_n))\n",
                "print(\"moda del array chisquare {:.2f}\".format(moda_c))\n",
                "\n",
                "#Medidas de dispersión\n",
                "    #Rango \n",
                "\n",
                "rango_n = max(array_normal) - min(array_normal)\n",
                "rango_c = max(array_chi) - min(array_chi)\n",
                "\n",
                "print(\"--------------------------------------------\")\n",
                "print(\"Rango del array normal {:.2f}\".format(rango_n))\n",
                "print(\"Rango del array chisquare {:.2f}\".format(rango_c))\n",
                "\n",
                "    #Varianza\n",
                "\n",
                "varianza_n = stats.variance(array_normal)\n",
                "varianza_c = stats.variance(array_chi)\n",
                "\n",
                "print(\"--------------------------------------------\")\n",
                "print(\"Varianza del array normal {:.2f} \".format(varianza_n))\n",
                "print(\"Varianza del array chisquare {:.2f}\".format(varianza_c))\n",
                "\n",
                "    #Desviación estándar\n",
                "\n",
                "desviacion_n = stats.stdev(array_normal)\n",
                "desviacion_c = stats.stdev(array_chi)\n",
                "\n",
                "print(\"--------------------------------------------\")\n",
                "print(\"Desviación estándar del array normal {:.2f} \".format(desviacion_n))\n",
                "print(\"Desviación estándar del array chisquare {:.2f} \".format(desviacion_c))\n",
                "\n",
                "#Medidas de forma\n",
                "    #Asimetría\n",
                "\n",
                "skewness_n = skew(array_normal)\n",
                "skewness_c = skew(array_chi)\n",
                "\n",
                "print(\"--------------------------------------------\")\n",
                "print(\"Asimetría del array normal {:.2f} \".format(skewness_n))\n",
                "print(\"Asimetría del array chisquare {:.2f} \".format(skewness_c))\n",
                "\n",
                "    #Curtosis\n",
                "\n",
                "kurt_n = kurtosis(array_normal)\n",
                "kurt_c = kurtosis(array_chi)\n",
                "\n",
                "print(\"--------------------------------------------\")\n",
                "print(\"Curtosis del array normal {:.2f} \".format(kurt_n))\n",
                "print(\"Curtosis del array chisquare {:.2f} \".format(kurt_c))\n"
            ]
        },
        {
            "cell_type": "markdown",
            "id": "46c70c3d",
            "metadata": {},
            "source": [
                "### Exercise 2\n",
                "\n",
                "Write a Python program to calculate the standard deviation of the following data:\n",
                "\n",
                "```py\n",
                "data = [4, 2, 5, 8, 6]\n",
                "```"
            ]
        },
        {
            "cell_type": "code",
            "execution_count": 2,
            "id": "d590308e",
            "metadata": {},
            "outputs": [],
            "source": [
                "# TODO"
            ]
        }
    ],
    "metadata": {
        "interpreter": {
            "hash": "9248718ffe6ce6938b217e69dbcc175ea21f4c6b28a317e96c05334edae734bb"
        },
        "kernelspec": {
            "display_name": "Python 3.9.12 ('ML-BOOTCAMP')",
            "language": "python",
            "name": "python3"
        },
        "language_info": {
            "codemirror_mode": {
                "name": "ipython",
                "version": 3
            },
            "file_extension": ".py",
            "mimetype": "text/x-python",
            "name": "python",
            "nbconvert_exporter": "python",
            "pygments_lexer": "ipython3",
            "version": "3.11.4"
        }
    },
    "nbformat": 4,
    "nbformat_minor": 5
}
